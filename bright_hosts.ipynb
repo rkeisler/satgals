{
 "metadata": {
  "name": ""
 },
 "nbformat": 3,
 "nbformat_minor": 0,
 "worksheets": [
  {
   "cells": [
    {
     "cell_type": "code",
     "collapsed": false,
     "input": [
      "# Load the data.\n",
      "# These are all SDSS objects with 0.004<z_spec<0.011.\n",
      "# The SQL call is in SQL.txt\n",
      "%pylab inline\n",
      "from pandas.io.parsers import read_csv\n",
      "d=read_csv('sdss_specz_0p004z_0p011z.csv')"
     ],
     "language": "python",
     "metadata": {},
     "outputs": [
      {
       "output_type": "stream",
       "stream": "stdout",
       "text": [
        "Populating the interactive namespace from numpy and matplotlib\n"
       ]
      }
     ],
     "prompt_number": 16
    },
    {
     "cell_type": "code",
     "collapsed": false,
     "input": [
      "# Define the \"bright hosts\".\n",
      "r_bright = 13.0\n",
      "wh_bright = np.where((d.r<r_bright) & \n",
      "                     (d.redshift>0.005) & \n",
      "                     (d.redshift<0.01))[0]\n",
      "wh_faint = np.where(d.r>=r_bright)[0]\n",
      "print 'There are %i gals brighter than r=%0.1f.'%(len(wh_bright),r_bright)"
     ],
     "language": "python",
     "metadata": {},
     "outputs": [
      {
       "output_type": "stream",
       "stream": "stdout",
       "text": [
        "There are 167 gals brighter than r=13.0.\n"
       ]
      }
     ],
     "prompt_number": 17
    },
    {
     "cell_type": "code",
     "collapsed": false,
     "input": [
      "# Convert from (RA, DEC, spec-z) to (X,Y,Z).\n",
      "# All distances are in Mpc.\n",
      "from cosmolopy import fidcosmo, distance\n",
      "dist_Mpc = distance.comoving_distance(d.redshift, **fidcosmo)\n",
      "theta = (90.0-d.dec)*np.pi/180.; phi=d.ra*np.pi/180.\n",
      "x = dist_Mpc*np.sin(theta)*np.cos(phi)\n",
      "y = dist_Mpc*np.sin(theta)*np.sin(phi)\n",
      "z = dist_Mpc*np.cos(theta)\n",
      "xyz = np.vstack([x,y,z]).T\n",
      "\n",
      "# Find all \"faint\" objects within X Mpc of each \"bright host\"\n",
      "from sklearn.neighbors import KDTree\n",
      "tree = KDTree(xyz[wh_faint,:], leaf_size=30)\n",
      "d_max = 3.0 # Mpc\n",
      "tmp = tree.query_radius(xyz[wh_bright,:], d_max, return_distance=True)\n",
      "index_nb=tmp[0]; dist_nb=tmp[1]\n",
      "\n",
      "# Plot a histogram of the distances to the bright hosts.\n",
      "hist(np.concatenate(dist_nb), bins=30)\n",
      "rc('font',**{'sans-serif':['Helvetica'], 'size':14})\n",
      "xlabel('distance to \"bright host\"(Mpc)'); ylabel('N')"
     ],
     "language": "python",
     "metadata": {},
     "outputs": [
      {
       "metadata": {},
       "output_type": "pyout",
       "prompt_number": 18,
       "text": [
        "<matplotlib.text.Text at 0x10c3deb10>"
       ]
      },
      {
       "metadata": {},
       "output_type": "display_data",
       "png": "[encoded data removed]",
       "text": [
        "<matplotlib.figure.Figure at 0x10c06ba10>"
       ]
      }
     ],
     "prompt_number": 18
    },
    {
     "cell_type": "markdown",
     "metadata": {},
     "source": [
      "I'm confused.  I thought that I'd see an excess of neighbors below the virial radius of these bright hosts (~0.5 Mpc?).  But instead everything is consistent with the neighbors being distributed randomly (dN/dr ~ r)."
     ]
    }
   ],
   "metadata": {}
  }
 ]
}