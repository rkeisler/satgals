{
 "metadata": {
  "name": ""
 },
 "nbformat": 3,
 "nbformat_minor": 0,
 "worksheets": [
  {
   "cells": [
    {
     "cell_type": "code",
     "collapsed": false,
     "input": [
      "%pylab inline\n",
      "from pandas.io.parsers import read_csv\n",
      "d = read_csv('NGC6181.txt', index_col=0) # made with SQL_NGC6181.txt"
     ],
     "language": "python",
     "metadata": {},
     "outputs": [
      {
       "output_type": "stream",
       "stream": "stdout",
       "text": [
        "Populating the interactive namespace from numpy and matplotlib\n"
       ]
      }
     ],
     "prompt_number": 1
    },
    {
     "cell_type": "code",
     "collapsed": false,
     "input": [
      "# How good were the photo-z's for the objects identified \n",
      "# as satellites of NGC 6181?  I.e. how many sigma's away \n",
      "# from z_host (where \"sigma\" is the photoZ error)?\n",
      "objid_sat = [1237662698115433445, 1237662661610767569, \n",
      "             1237662698115432544, 1237662662147571761]\n",
      "z_true = 0.007922 # z-spec of NGC 6181\n",
      "\n",
      "# There are two flavors of SDSS photoz's: one based on a\n",
      "# nearest neighbor algorithm (NN), and one based on a \n",
      "# random forest (RF) algorithm.\n",
      "nsigma_nn = np.abs((d.zNN-z_true)/d.zNN_err)\n",
      "nsigma_rf = np.abs((d.zRF-z_true)/d.zRF_err)\n",
      "\n",
      "print 'N_sigma_photozNN: '\n",
      "print nsigma_nn[objid_sat]\n",
      "print ' '\n",
      "print 'N_sigma_photozRF: '\n",
      "print nsigma_rf[objid_sat]"
     ],
     "language": "python",
     "metadata": {},
     "outputs": [
      {
       "output_type": "stream",
       "stream": "stdout",
       "text": [
        "N_sigma_photozNN: \n",
        "1237662698115433445    0.716082\n",
        "1237662661610767569    1.152024\n",
        "1237662698115432544    1.552936\n",
        "1237662662147571761    0.955990\n",
        "dtype: float64\n",
        " \n",
        "N_sigma_photozRF: \n",
        "1237662698115433445    0.536328\n",
        "1237662661610767569    1.059515\n",
        "1237662698115432544    1.768980\n",
        "1237662662147571761    0.855470\n",
        "dtype: float64\n"
       ]
      }
     ],
     "prompt_number": 2
    },
    {
     "cell_type": "markdown",
     "metadata": {},
     "source": [
      "The takeaway is that the SDSS photoz's were **within 1.8$\\sigma$** of the host redshift.  By what factor could we reduce the number of targets if we require that both flavors of photoZ are within some number of sigma of the host redshift?"
     ]
    },
    {
     "cell_type": "code",
     "collapsed": false,
     "input": [
      "nsigma = 3.0 # maximum (photoz-zHost)/photoz_error\n",
      "r_max = 20.5 # maximum r mag\n",
      "gr_max = 1.3 # maximum g-r color\n",
      "ri_max = 0.7 # maximum r-i color\n",
      "\n",
      "# Baseline cuts are (r mag, g-r color, r-i color)\n",
      "wh_baseline = np.where((d.r<r_max) & \n",
      "                       ((d.g-d.r)<gr_max) & \n",
      "                       ((d.r-d.i)<ri_max))[0]\n",
      "\n",
      "# New cuts are Baseline + nsigma_photoz.\n",
      "wh_target = np.where((d.r<r_max) & \n",
      "                     ((d.g-d.r)<gr_max) & \n",
      "                     ((d.r-d.i)<ri_max) &\n",
      "                     (nsigma_nn<nsigma) &\n",
      "                     (nsigma_rf<nsigma))[0]\n",
      "\n",
      "n_baseline = len(wh_baseline)\n",
      "n_target = len(wh_target)\n",
      "print '%i objects in baseline sample.'%n_baseline\n",
      "print '%i objects in new sample.'%n_target\n",
      "print 'Reduction of %0.2f'%(1.*n_baseline/n_target)"
     ],
     "language": "python",
     "metadata": {},
     "outputs": [
      {
       "output_type": "stream",
       "stream": "stdout",
       "text": [
        "2247 objects in baseline sample.\n",
        "702 objects in new sample.\n",
        "Reduction of 3.20\n"
       ]
      }
     ],
     "prompt_number": 3
    },
    {
     "cell_type": "markdown",
     "metadata": {},
     "source": [
      "The reduction factor is even better if you only keep objects within 2.0$\\sigma$ of the host redshift, and the reduction factors don't seem to depend much on the maximum $r$ magnitude of the sample:\n",
      "\n",
      "| $r_{\\rm{max}}$ | $\\sigma_{\\rm{photoZ}}$ | Reduction factor  |\n",
      "|-------|-----|-----|\n",
      "| 19.5  | 2.0 | 6.6 |\n",
      "| 20.5  | 2.0 | 6.9 |\n",
      "| 19.5  | 3.0 | 3.4 |\n",
      "| 20.5  | 3.0 | 3.2 |\n",
      "\n",
      "I'm sure there's a tradeoff here.  If you cut on $\\sigma_{\\rm{photoZ}}$, you'll reduce the number of targets by a factor of 3-7 (and perhaps another factor of 2 if you cut on SDSS's star/galaxy classification), but at the expense of completeness in the final satellite galaxy sample."
     ]
    }
   ],
   "metadata": {}
  }
 ]
}